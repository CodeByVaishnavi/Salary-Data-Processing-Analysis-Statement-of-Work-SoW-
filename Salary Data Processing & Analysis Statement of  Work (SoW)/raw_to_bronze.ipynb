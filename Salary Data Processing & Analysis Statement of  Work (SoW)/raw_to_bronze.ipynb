{
 "cells": [
  {
   "cell_type": "code",
   "execution_count": 0,
   "metadata": {
    "application/vnd.databricks.v1+cell": {
     "cellMetadata": {
      "byteLimit": 2048000,
      "rowLimit": 10000
     },
     "inputWidgets": {},
     "nuid": "c2a0340e-e918-4ea3-9811-ff7224601aac",
     "showTitle": false,
     "tableResultSettingsMap": {},
     "title": ""
    }
   },
   "outputs": [],
   "source": [
    "from pyspark.sql import*\n",
    "from pyspark.sql.functions import*"
   ]
  },
  {
   "cell_type": "code",
   "execution_count": 0,
   "metadata": {
    "application/vnd.databricks.v1+cell": {
     "cellMetadata": {
      "byteLimit": 2048000,
      "rowLimit": 10000
     },
     "inputWidgets": {},
     "nuid": "06665d00-932c-4ad0-a352-a66702af38e1",
     "showTitle": false,
     "tableResultSettingsMap": {},
     "title": ""
    }
   },
   "outputs": [],
   "source": [
    "#setting up the paths of both raw and bronze data containers from blob and adls respectively\n",
    "source_path=\"abfss://raw@vaishnaviblob.dfs.core.windows.net/\"\n",
    "destination_path=\"abfss://bronze@genlake9.dfs.core.windows.net/\""
   ]
  },
  {
   "cell_type": "code",
   "execution_count": 0,
   "metadata": {
    "application/vnd.databricks.v1+cell": {
     "cellMetadata": {
      "byteLimit": 2048000,
      "rowLimit": 10000
     },
     "inputWidgets": {},
     "nuid": "e22b763a-2c47-4e49-9f50-701a874fd39b",
     "showTitle": false,
     "tableResultSettingsMap": {},
     "title": ""
    }
   },
   "outputs": [],
   "source": [
    "spark.conf.set(\n",
    "    \"fs.azure.account.key.vaishnaviblob.dfs.core.windows.net\",\n",
    "    \"86ff7zQWjS7nwDeQaP8s3clQrUayPYUmWp22Ebfy9zvUq0GQkJ0rzFc31vOkcVEgHymiA+33U56O+AStynqfMw==\")\n",
    "\n",
    "spark.conf.set(\n",
    "    \"fs.azure.account.key.genlake9.dfs.core.windows.net\",\n",
    "    \"pTd4HMlTeClPXiumr5kHWQRqooZC6G9EH41S17a8ear4sdCJHzOPwinqW717CbUFdPVsVzkEwwFF+ASt8Vv+nw==\")"
   ]
  },
  {
   "cell_type": "code",
   "execution_count": 0,
   "metadata": {
    "application/vnd.databricks.v1+cell": {
     "cellMetadata": {
      "byteLimit": 2048000,
      "rowLimit": 10000
     },
     "inputWidgets": {},
     "nuid": "27df5604-662a-4ee5-a35b-5f55804dc2d4",
     "showTitle": false,
     "tableResultSettingsMap": {},
     "title": ""
    }
   },
   "outputs": [],
   "source": [
    "salary_df = spark.read.format('csv').option('header', 'true').option('inferSchema', 'true') \\\n",
    "    .load(f\"{source_path}salary_Data.csv\")\n",
    "\n",
    "salary_bronze = salary_df \\\n",
    "    .withColumn(\"ingestion_date\", current_timestamp()) \\\n",
    "    .withColumn(\"source_file\", lit(\"salary_Data.csv\"))\n",
    "\n",
    "salary_bronze.write.mode(\"overwrite\").parquet(f\"{destination_path}salary_data_bronze.parquet\")"
   ]
  },
  {
   "cell_type": "code",
   "execution_count": 0,
   "metadata": {
    "application/vnd.databricks.v1+cell": {
     "cellMetadata": {
      "byteLimit": 2048000,
      "rowLimit": 10000
     },
     "inputWidgets": {},
     "nuid": "704a2cd9-78e6-402b-b013-d69982f158ef",
     "showTitle": false,
     "tableResultSettingsMap": {},
     "title": ""
    }
   },
   "outputs": [],
   "source": [
    "employee_df = spark.read.format('csv').option('header', 'true').option('inferSchema', 'true') \\\n",
    "    .load(f\"{source_path}employee_Data.csv\")\n",
    "\n",
    "employee_bronze = employee_df \\\n",
    "    .withColumn(\"ingestion_date\", current_timestamp()) \\\n",
    "    .withColumn(\"source_file\", lit(\"employee_Data.csv\"))\n",
    "\n",
    "employee_bronze.write.mode(\"overwrite\").parquet(f\"{destination_path}employee_data_bronze.parquet\")\n"
   ]
  },
  {
   "cell_type": "code",
   "execution_count": 0,
   "metadata": {
    "application/vnd.databricks.v1+cell": {
     "cellMetadata": {
      "byteLimit": 2048000,
      "rowLimit": 10000
     },
     "inputWidgets": {},
     "nuid": "6ad82e45-529e-43c2-bfd3-d0042df2e295",
     "showTitle": false,
     "tableResultSettingsMap": {},
     "title": ""
    }
   },
   "outputs": [],
   "source": [
    "department_df = spark.read.format('csv').option('header', 'true').option('inferSchema', 'true') \\\n",
    "    .load(f\"{source_path}department_Data.csv\")\n",
    "\n",
    "department_bronze = department_df \\\n",
    "    .withColumn(\"ingestion_date\", current_timestamp()) \\\n",
    "    .withColumn(\"source_file\", lit(\"department_Data.csv\"))\n",
    "\n",
    "department_bronze.write.mode(\"overwrite\").parquet(f\"{destination_path}department_data_bronze.parquet\")"
   ]
  },
  {
   "cell_type": "code",
   "execution_count": 0,
   "metadata": {
    "application/vnd.databricks.v1+cell": {
     "cellMetadata": {},
     "inputWidgets": {},
     "nuid": "3f22a579-e0e0-43ae-9c6e-11550cc3c498",
     "showTitle": false,
     "tableResultSettingsMap": {},
     "title": ""
    }
   },
   "outputs": [],
   "source": []
  }
 ],
 "metadata": {
  "application/vnd.databricks.v1+notebook": {
   "computePreferences": null,
   "dashboards": [],
   "environmentMetadata": {
    "base_environment": "",
    "environment_version": "2"
   },
   "inputWidgetPreferences": null,
   "language": "python",
   "notebookMetadata": {
    "pythonIndentUnit": 4
   },
   "notebookName": "raw_to_bronze",
   "widgets": {}
  },
  "language_info": {
   "name": "python"
  }
 },
 "nbformat": 4,
 "nbformat_minor": 0
}